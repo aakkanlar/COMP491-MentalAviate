{
 "cells": [
  {
   "cell_type": "code",
   "execution_count": 2,
   "metadata": {},
   "outputs": [],
   "source": [
    "import time\n",
    "import numpy as np\n",
    "from pylsl import StreamInlet, resolve_stream\n",
    "import mne\n",
    "# Parameters\n",
    "number_of_trials_per_type = 25  # Number of trials for each type (right, left)\n",
    "trial_duration = 4  # seconds\n",
    "rest_duration = 2   # seconds\n",
    "trial_types = ['right', 'left']  # Order of trial types\n",
    "streams = resolve_stream()\n"
   ]
  },
  {
   "cell_type": "code",
   "execution_count": null,
   "metadata": {},
   "outputs": [],
   "source": [
    "\n",
    "\n",
    "def bandpass_filter(data, low_freq, high_freq, sampling_rate):\n",
    "    # Create a filter\n",
    "    filter = mne.filter.create_filter(data, sampling_rate, l_freq=low_freq, h_freq=high_freq)\n",
    "    # Apply the filter\n",
    "    filtered_data = mne.filter.filter_data(data, sampling_rate, l_freq=low_freq, h_freq=high_freq)\n",
    "    return filtered_data"
   ]
  },
  {
   "cell_type": "code",
   "execution_count": 3,
   "metadata": {},
   "outputs": [
    {
     "name": "stdout",
     "output_type": "stream",
     "text": [
      "Stream found: NR-2022.07.11 - EEG - 8 channels\n",
      "Looking for an EEG stream...\n",
      "Stream found. Starting experiment...\n"
     ]
    }
   ],
   "source": [
    "for stream in streams:\n",
    "    print(f\"Stream found: {stream.name()} - {stream.type()} - {stream.channel_count()} channels\")\n",
    "# Resolve an EEG stream on the network and create an inlet\n",
    "print(\"Looking for an EEG stream...\")\n",
    "\n",
    "\n",
    "streams = resolve_stream('type', 'EEG')\n",
    "inlet = StreamInlet(streams[0])\n",
    "print(\"Stream found. Starting experiment...\")\n"
   ]
  },
  {
   "cell_type": "code",
   "execution_count": 5,
   "metadata": {},
   "outputs": [
    {
     "name": "stdout",
     "output_type": "stream",
     "text": [
      "Trial 1/25, right hand imagery\n",
      "Rest\n",
      "Trial 2/25, right hand imagery\n",
      "Rest\n",
      "Trial 3/25, right hand imagery\n",
      "Rest\n",
      "Trial 4/25, right hand imagery\n",
      "Rest\n",
      "Trial 5/25, right hand imagery\n",
      "Rest\n",
      "Trial 6/25, right hand imagery\n",
      "Rest\n",
      "Trial 7/25, right hand imagery\n",
      "Rest\n",
      "Trial 8/25, right hand imagery\n",
      "Rest\n",
      "Trial 9/25, right hand imagery\n",
      "Rest\n",
      "Trial 10/25, right hand imagery\n",
      "Rest\n",
      "Trial 11/25, right hand imagery\n",
      "Rest\n",
      "Trial 12/25, right hand imagery\n",
      "Rest\n",
      "Trial 13/25, right hand imagery\n",
      "Rest\n",
      "Trial 14/25, right hand imagery\n",
      "Rest\n",
      "Trial 15/25, right hand imagery\n",
      "Rest\n",
      "Trial 16/25, right hand imagery\n",
      "Rest\n",
      "Trial 17/25, right hand imagery\n",
      "Rest\n",
      "Trial 18/25, right hand imagery\n",
      "Rest\n",
      "Trial 19/25, right hand imagery\n",
      "Rest\n",
      "Trial 20/25, right hand imagery\n",
      "Rest\n",
      "Trial 21/25, right hand imagery\n",
      "Rest\n",
      "Trial 22/25, right hand imagery\n",
      "Rest\n",
      "Trial 23/25, right hand imagery\n",
      "Rest\n",
      "Trial 24/25, right hand imagery\n",
      "Rest\n",
      "Trial 25/25, right hand imagery\n",
      "Rest\n",
      "Trial 1/25, left hand imagery\n",
      "Rest\n",
      "Trial 2/25, left hand imagery\n",
      "Rest\n",
      "Trial 3/25, left hand imagery\n",
      "Rest\n",
      "Trial 4/25, left hand imagery\n",
      "Rest\n",
      "Trial 5/25, left hand imagery\n",
      "Rest\n",
      "Trial 6/25, left hand imagery\n",
      "Rest\n",
      "Trial 7/25, left hand imagery\n",
      "Rest\n",
      "Trial 8/25, left hand imagery\n",
      "Rest\n",
      "Trial 9/25, left hand imagery\n",
      "Rest\n",
      "Trial 10/25, left hand imagery\n",
      "Rest\n",
      "Trial 11/25, left hand imagery\n",
      "Rest\n",
      "Trial 12/25, left hand imagery\n",
      "Rest\n",
      "Trial 13/25, left hand imagery\n",
      "Rest\n",
      "Trial 14/25, left hand imagery\n",
      "Rest\n",
      "Trial 15/25, left hand imagery\n",
      "Rest\n",
      "Trial 16/25, left hand imagery\n",
      "Rest\n",
      "Trial 17/25, left hand imagery\n",
      "Rest\n",
      "Trial 18/25, left hand imagery\n",
      "Rest\n",
      "Trial 19/25, left hand imagery\n",
      "Rest\n",
      "Trial 20/25, left hand imagery\n",
      "Rest\n",
      "Trial 21/25, left hand imagery\n",
      "Rest\n",
      "Trial 22/25, left hand imagery\n",
      "Rest\n",
      "Trial 23/25, left hand imagery\n",
      "Rest\n",
      "Trial 24/25, left hand imagery\n",
      "Rest\n",
      "Trial 25/25, left hand imagery\n",
      "Rest\n"
     ]
    }
   ],
   "source": [
    "# Initialize a list to store trial data and labels\n",
    "all_trials_data = []\n",
    "trials_info = []\n",
    "\n",
    "# Experiment loop\n",
    "for trial_type in trial_types:\n",
    "    for trial in range(number_of_trials_per_type):\n",
    "        # Present cue for the trial\n",
    "        cue = f\"Trial {trial + 1}/{number_of_trials_per_type}, {trial_type} hand imagery\"\n",
    "        print(cue)\n",
    "        \n",
    "        # Record the start timestamp\n",
    "        start_timestamp = time.time()\n",
    "        \n",
    "        # Collect EEG data for the duration of the trial\n",
    "        trial_data = []\n",
    "        while time.time() - start_timestamp < trial_duration:\n",
    "            sample, timestamp = inlet.pull_sample()\n",
    "            trial_data.append(sample)\n",
    "\n",
    "        trial_data = np.array(trial_data)\n",
    "        low_freq = 8\n",
    "        high_freq = 30\n",
    "        sampling_rate = 250\n",
    "        trial_data_filtered = bandpass_filter(trial_data, low_freq, high_freq, sampling_rate)\n",
    "        end_timestamp = time.time()\n",
    "\n",
    "        all_trials_data.append(np.array(trial_data_filtered))\n",
    "        \n",
    "        # Store the trial data and label\n",
    "        \n",
    "        trials_info.append((start_timestamp, end_timestamp, trial_type))\n",
    "        \n",
    "        # Rest period\n",
    "        print(\"Rest\")\n",
    "        time.sleep(rest_duration)"
   ]
  },
  {
   "cell_type": "code",
   "execution_count": 16,
   "metadata": {},
   "outputs": [
    {
     "name": "stdout",
     "output_type": "stream",
     "text": [
      "Experiment completed.\n"
     ]
    }
   ],
   "source": [
    "\n",
    "#segmenting the data according to the timestamps\n",
    "sampling_rate = 250  # Hz, adjust this to match your data's sampling rate\n",
    "\n",
    "# Initialize a list to store segmented trial data\n",
    "segmented_trials = []\n",
    "\n",
    "# Segment the data based on trials_info\n",
    "for start_time, end_time, label in trials_info:\n",
    "    start_index = int(start_time * sampling_rate)\n",
    "    end_index = int(end_time * sampling_rate)\n",
    "    trial_segment = all_trials_data[start_index:end_index, :]\n",
    "    segmented_trials.append((trial_segment, label))\n"
   ]
  },
  {
   "cell_type": "code",
   "execution_count": 1,
   "metadata": {},
   "outputs": [
    {
     "ename": "NameError",
     "evalue": "name 'np' is not defined",
     "output_type": "error",
     "traceback": [
      "\u001b[1;31m---------------------------------------------------------------------------\u001b[0m",
      "\u001b[1;31mNameError\u001b[0m                                 Traceback (most recent call last)",
      "Cell \u001b[1;32mIn[1], line 1\u001b[0m\n\u001b[1;32m----> 1\u001b[0m \u001b[38;5;28mprint\u001b[39m(\u001b[43mnp\u001b[49m\u001b[38;5;241m.\u001b[39masanyarray(padded_data)\u001b[38;5;241m.\u001b[39mshape)\n",
      "\u001b[1;31mNameError\u001b[0m: name 'np' is not defined"
     ]
    }
   ],
   "source": [
    "from mne.decoding import CSP\n",
    "\n",
    "# Assume segmented_trials contains tuples of (segmented_data, label) for each trial\n",
    "# and labels are 'left' or 'right' for the two classes\n",
    "\n",
    "# Separate the data into two classes\n",
    "left_trials = [trial_data for trial_data, label in segmented_trials if label == 'left']\n",
    "right_trials = [trial_data for trial_data, label in segmented_trials if label == 'right']\n",
    "\n",
    "# Stack the trials to create 3D arrays (trials x channels x samples)\n",
    "left_data = np.stack(left_trials)\n",
    "right_data = np.stack(right_trials)\n",
    "\n",
    "# Create and fit the CSP model\n",
    "X = np.concatenate([left_data, right_data], axis=0)\n",
    "y = np.array(['left'] * len(left_trials) + ['right'] * len(right_trials))\n",
    "\n",
    "# Initialize CSP\n",
    "csp = CSP(n_components=4, norm_trace=False)\n",
    "\n",
    "# Fit CSP on the data\n",
    "csp.fit(X, y)\n",
    "\n",
    "# Transform the data using CSP filters\n",
    "X_csp = csp.transform(X)\n"
   ]
  },
  {
   "cell_type": "code",
   "execution_count": 19,
   "metadata": {},
   "outputs": [],
   "source": [
    "# Save the CSP features to a file\n",
    "np.save('csp_features.npy', X_csp)\n",
    "\n",
    "# Optionally, save the labels as well\n",
    "np.save('csp_labels.npy', y)"
   ]
  },
  {
   "cell_type": "code",
   "execution_count": 20,
   "metadata": {},
   "outputs": [],
   "source": []
  },
  {
   "cell_type": "code",
   "execution_count": 24,
   "metadata": {},
   "outputs": [],
   "source": []
  }
 ],
 "metadata": {
  "kernelspec": {
   "display_name": "Python 3",
   "language": "python",
   "name": "python3"
  },
  "language_info": {
   "codemirror_mode": {
    "name": "ipython",
    "version": 3
   },
   "file_extension": ".py",
   "mimetype": "text/x-python",
   "name": "python",
   "nbconvert_exporter": "python",
   "pygments_lexer": "ipython3",
   "version": "3.11.8"
  }
 },
 "nbformat": 4,
 "nbformat_minor": 2
}
